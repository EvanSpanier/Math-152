{
  "nbformat": 4,
  "nbformat_minor": 0,
  "metadata": {
    "kernelspec": {
      "display_name": "Python 3",
      "language": "python",
      "name": "python3"
    },
    "language_info": {
      "codemirror_mode": {
        "name": "ipython",
        "version": 3
      },
      "file_extension": ".py",
      "mimetype": "text/x-python",
      "name": "python",
      "nbconvert_exporter": "python",
      "pygments_lexer": "ipython3",
      "version": "3.6.4"
    },
    "colab": {
      "name": "My First Python3 Notebook.ipynb",
      "provenance": [],
      "toc_visible": true,
      "include_colab_link": true
    }
  },
  "cells": [
    {
      "cell_type": "markdown",
      "metadata": {
        "id": "view-in-github",
        "colab_type": "text"
      },
      "source": [
        "<a href=\"https://colab.research.google.com/github/EvanSpanier/Math-152/blob/main/My_First_Python3_Notebook.ipynb\" target=\"_parent\"><img src=\"https://colab.research.google.com/assets/colab-badge.svg\" alt=\"Open In Colab\"/></a>"
      ]
    },
    {
      "cell_type": "markdown",
      "metadata": {
        "id": "ltBpumqM-xLc"
      },
      "source": [
        "#  A brief introduction to the GitHub + CoLab + Jupyter + Python ecosystem."
      ]
    },
    {
      "cell_type": "markdown",
      "metadata": {
        "id": "yNqogn4F-xLg"
      },
      "source": [
        "**Python** is a programming language, and this course is all about learning Python to solve problems.  There are lots of ways to use Python.  For example, if you have a Mac, you can open a terminal window (open \"Terminal\" app), type \"python\" at the prompt, and you'll be greeted by a python prompt (it looks like \">>>\").  If you type \"2+2\", Python will output \"4\" -- congratulations!  You've run Python in your terminal.\n",
        "\n",
        "But we're going to use Python in a more interactive and sharable manner -- one that is ideally suited to situations where you want to write blocks of text among blocks of code as you analyze problems and communicate your results.  This is a **Jupyter notebook** -- you're reading a Jupyter notebook right now!  Jupyter notebooks are made of **text cells** like the one you're reading now, and **code cells** that contain **code** -- Python code for our course.\n",
        "\n",
        "We are going to work with Jupyter notebooks using a cloud-based collaborative environment called **Google CoLab**.  Hopefully you're looking at this notebook on CoLab right now.  If so, you'll see a orange \"CO\" logo at the top of your browser window, and maybe links to your Google profile too.  By using Google CoLab, you won't have to install any software on your computer.  You'll also be able to work collaboratively (what \"CoLab\" stands for) with your classmates.  You will need an internet connection though.  If you don't have regular internet access, but you do have a reliable computer, you can use **Anaconda** instead to install all the Python packages, Jupyter notebook server, etc. -- all for free.\n",
        "\n",
        "Finally, to save, share, and access all of our Jupyter notebooks, we will use **GitHub** .  GitHub will allow you to keep track of different versions of files, submit your final work for grading, receive feedback, etc.  And you can keep your notebooks on GitHub in the long term, for future enjoyment."
      ]
    },
    {
      "cell_type": "markdown",
      "metadata": {
        "id": "PLYWcR-txvgk"
      },
      "source": [
        "# Starting this assignment\n",
        "\n",
        "If you're reading this, you're off to a good start.  If you haven't gone through the following steps, please do these now!\n",
        "\n",
        "To complete this assignment, carry out the following five steps.\n",
        "\n",
        "1.  Create a (free) account on GitHub, by going to http://github.com/.  GitHub is a commonly used site for collaborative software development.  You can find lots of GitHub tutorials online, but we will just be using the simplest features.\n",
        "\n",
        "2.  Create a repository (like a directory) on your GitHub account.  I would call it something like \"Math 152\" or \"Python 4 Mathematics\".  Make this repository visible to the public.  You can use this to store all your programming notebooks this quarter.  You can make a separate repository for each assignment, or one repository for all assignments.\n",
        "\n",
        "3.  Access Google Colab by going to Google's Colab site (Links to an external site.) while logged into your Google account. Note that your UCSC account, accessed with Gold password, provides full access to Google services. This includes Google Drive for storing files, etc.\n",
        "\n",
        "4.  Open the notebook.  In Colab, and go to File...Open Notebook.  Click GitHub from the menu bar.  Enter the URL https://github.com/MartyWeissman/PythonForMathematics to find the class programming notebooks, and select the file \"My First Python3 Notebook.ipynb\".  This will open your assignment.  Note that when you use Google Colab, you are \"borrowing\" Google's computers -- your work will not be automatically saved. If you walk away for a few hours, your work might be lost! So don't forget to save!\n",
        "\n",
        "5.  Complete the four exercises in the notebook, using Google Colab.\n",
        "\n",
        "6.  Save your work, by going to File... Save a copy on GitHub.  You will have to provide Google Colab access to your GitHub account to save your work there.  But once you do this, you should be able to save the notebook to your personal GitHub repository.  Next time you load your work, make sure to load it from your repository rather than the class repository!  Save often!  You can also save copies on your Google Drive if you wish.\n",
        "\n",
        "5.  Submit the URL of your assignment on Canvas.  This URL should contain your personal repository name, as well as the notebook name (My First Python3 Notebook ipynb).  \n",
        "\n",
        "Your TA and instructor will be able to see your GitHub repository, in order to provide feedback on your work.  We will grade this assignment for completion."
      ]
    },
    {
      "cell_type": "markdown",
      "metadata": {
        "id": "XMOFA1Pu-xLh"
      },
      "source": [
        "#  Notebook cells"
      ]
    },
    {
      "cell_type": "markdown",
      "metadata": {
        "id": "HV4k6WHq-xLh"
      },
      "source": [
        "Click inside the cell below, in the box to the right of the `[ ]` prompt.  The cell should pop out a bit, with a play button at the left, indicating that it's active.  Then press *shift-Enter* (hold down the shift key while pressing the Enter key) on the keyboard to **evaluate** the cell.  Or, you can click the little triangle play-button on the left of the cell. \n",
        "\n",
        "You might get a little warning message, that this notebook wasn't authored by Google, etc.  Don't worry.  We're just adding 2+2.  It will take longer than you expect, since it's just getting warmed up.  "
      ]
    },
    {
      "cell_type": "code",
      "metadata": {
        "id": "vqfo26dp-xLh",
        "outputId": "25795e15-558e-4deb-dcfd-8fd88d91cf6a",
        "colab": {
          "base_uri": "https://localhost:8080/"
        }
      },
      "source": [
        "2**91"
      ],
      "execution_count": 2,
      "outputs": [
        {
          "output_type": "execute_result",
          "data": {
            "text/plain": [
              "2475880078570760549798248448"
            ]
          },
          "metadata": {},
          "execution_count": 2
        }
      ]
    },
    {
      "cell_type": "markdown",
      "metadata": {
        "id": "583qqyPN-xLh"
      },
      "source": [
        "If an output message`4` appeared, then everything is working correctly!"
      ]
    },
    {
      "cell_type": "markdown",
      "metadata": {
        "id": "bMstoQHS-xLi"
      },
      "source": [
        "Jupyter notebooks are built out of **cells**.  There are two primary types of cells:  **text cells** and **code cells**.  Textual content will be contained in text cells like this one.  Programming content will be contained in code cells, like the `2+2` cell above.\n",
        "\n",
        "To edit a code cell, click anywhere within its evaluation box.  Note:  these exercises will be checked as part of our grading.  \n",
        "\n",
        "**Exercise 1:**  Change the `2+2` cell above to `2**91` and re-evaluate it to find 2 raised to the 91st power.\n",
        "\n",
        "To edit a text cell like this one, double-click anywhere within its body.  You can write text smoothly using the Colab interface.  Text cells use a language called **Markdown** for easy formatting without lots of clicking.  When you're done editing a Markdown cell, press *shift-Enter*."
      ]
    },
    {
      "cell_type": "markdown",
      "metadata": {
        "id": "lsJIt7WJ-xLi"
      },
      "source": [
        "Often you'll want to **insert a new cell** above or below a given cell.  To do this, place the mouse cursor just above or below a cell, and click the (+Text) button to add a Markdown (text) cell, and the (+Code) button to add a Code (Python) cell."
      ]
    },
    {
      "cell_type": "markdown",
      "source": [
        "message"
      ],
      "metadata": {
        "id": "oSOHBCxxWzF_"
      }
    },
    {
      "cell_type": "markdown",
      "metadata": {
        "id": "0z8DurTw-xLj"
      },
      "source": [
        "**Exercise 2:**  I'm a text cell.  Add a text cell above me with a message, and a code cell below me with a computation."
      ]
    },
    {
      "cell_type": "code",
      "source": [
        "3*9"
      ],
      "metadata": {
        "id": "jxyJfVXDW1AP",
        "outputId": "aa2d85cf-b2e4-489e-98c0-3704f6ec692d",
        "colab": {
          "base_uri": "https://localhost:8080/"
        }
      },
      "execution_count": 3,
      "outputs": [
        {
          "output_type": "execute_result",
          "data": {
            "text/plain": [
              "27"
            ]
          },
          "metadata": {},
          "execution_count": 3
        }
      ]
    },
    {
      "cell_type": "markdown",
      "metadata": {
        "id": "WnWNmI_Z-xLj"
      },
      "source": [
        "## Basic Markdown for Jupyter notebooks"
      ]
    },
    {
      "cell_type": "markdown",
      "metadata": {
        "id": "YsvbvwVS-xLj"
      },
      "source": [
        "You will learn more about Python code in the course.  As you are learning, you should experiment in code cells, and write answers to questions and other notes in text cells.  Markdown is a neat text-editing language, a sort of shorthand that extends HTML.  Here is a brief guide to typing in Markdown, if you don't want to use the Colab buttons."
      ]
    },
    {
      "cell_type": "markdown",
      "metadata": {
        "id": "n-AvjR3A-xLj"
      },
      "source": [
        "Most of the time, you can type Markdown just like any old text document.  One little difference is that to start a new line, you have to insert an extra empty line in the Markdown.  Double-click this cell to see how the new paragraph was started below.  Press *shift-enter* to stop editing and \"compile\" the Markdown. \n",
        "\n",
        "Markdown has many more features that you'll notice in this document: there are different typefaces, lists, headings, links, and more.  "
      ]
    },
    {
      "cell_type": "markdown",
      "metadata": {
        "id": "PoOaLW2Z-xLj"
      },
      "source": [
        "### Typefaces\n",
        "\n",
        "To change from plain text to *italics* or to **boldface**, you surround the text by asterisks or double-asterisks.  Double-click inside this text cell to see how it was done!  Then insert a new text cell below this one to experiment.  Strictly speaking, the single-asterisks are used to convert to the HTML `<em>` tag, which places emphasis on text.  The double-asterisks convert to the HTML `<strong>` tag, which is often boldfaced.  But different web-browsers behave differently."
      ]
    },
    {
      "cell_type": "markdown",
      "metadata": {
        "id": "1OHYSYBB-xLk"
      },
      "source": [
        "### Lists\n",
        "\n",
        "Often it is useful to make lists.  The two kinds of lists we'll use are numbered lists and unnumbered lists.  These are easy in Markdown.  For a numbered list, just start each new line with a number.  Double-click this cell to see how it was done.\n",
        "\n",
        "1.  This is the first line.\n",
        "2.  This is the second line.\n",
        "3.  This is the third line."
      ]
    },
    {
      "cell_type": "markdown",
      "metadata": {
        "id": "_hhVaj0a-xLk"
      },
      "source": [
        "For an unnumbered (bulleted) list, start each new line with a dash `-` (a few other symbols work too).  Double-click this cell to see how it was done.\n",
        "\n",
        "-  This is the first line.\n",
        "-  This is the second line.\n",
        "-  This is the third line.\n",
        "\n",
        "Now I'm back to ordinary text again."
      ]
    },
    {
      "cell_type": "markdown",
      "metadata": {
        "id": "G1I3avgQ-xLk"
      },
      "source": [
        "You can nest your lists.  But people get too attached to nested hierarchies in their writing and presentations.  Lists have their place, but paragraphs should be more common.  If you must nest a list, double-click this cell to see how it was done, with a bit of indentation.  \n",
        "\n",
        "-  This is the first line.\n",
        "    - This is the first subline within the first line.\n",
        "    - This is the second subline within the first line.\n",
        "-  This is the second line.\n",
        "-  This is the third line.\n",
        "\n",
        "Now I'm back to ordinary text again."
      ]
    },
    {
      "cell_type": "markdown",
      "metadata": {
        "id": "FekzGSfW-xLk"
      },
      "source": [
        "### Headings\n",
        "\n",
        "There are different levels of headings, i.e., headings, subheadings, etc., which typically render as boldface text of different sizes.  To make a top-level heading, a single hashtag `#` is used.  The next level heading is created with a double hashtag `##`, and so on.  Double-click this cell to see how it was done.\n",
        "\n",
        "#  A top-level heading.\n",
        "## The next-level heading.\n",
        "### A third-level heading.\n",
        "#### A fourth-level heading. "
      ]
    },
    {
      "cell_type": "markdown",
      "source": [
        "#Evan Spanier\n",
        "[Cat](https://en.wikipedia.org/wiki/Cat)"
      ],
      "metadata": {
        "id": "ByCZ9abCW_lr"
      }
    },
    {
      "cell_type": "markdown",
      "metadata": {
        "id": "kqBYyXxCn_9S"
      },
      "source": [
        "**Exercise 3:**  Add a text cell above.  Put a heading with your first and last name, and a link to webpage with a picture of a cat."
      ]
    },
    {
      "cell_type": "markdown",
      "metadata": {
        "id": "TdXrMz1d-xLl"
      },
      "source": [
        "### Links\n",
        "\n",
        "Finally, we discuss how to insert web-links in your Markdown code.  The general syntax is that the displayed text goes in brackets followed by the URL (web address) in parentheses.  For example, you can read [Quanta Magazine](https://www.quantamagazine.org/).  Double-click this cell to see how it was done.  "
      ]
    },
    {
      "cell_type": "markdown",
      "metadata": {
        "id": "MPDh6y5q-xLl"
      },
      "source": [
        "### Conclusion\n",
        "\n",
        "There is much much more you can do with Markdown.  In fact, Markdown is a superset of HTML, so you can put just about any basic web content in a Markdown cell.  A quick google search will turn up lots of Markdown guides, and it's best to search for Markdown and Jupyter to find a guide for Jupyter's particular flavor of Markdown (which differs a bit from WordPress markdown, for example).  "
      ]
    },
    {
      "cell_type": "markdown",
      "metadata": {
        "id": "30nUfnqc-xLl"
      },
      "source": [
        "## Saving, loading, and printing notebooks"
      ]
    },
    {
      "cell_type": "markdown",
      "metadata": {
        "id": "b-Kfmg1p-xLl"
      },
      "source": [
        "You can save, load, and print Jupyter notebooks.  In fact, it's probably a good time to save this notebook since you've edited the markdown so far.  Go to \"File...Save a copy in GitHub\" (the File menu just next to the Colab logo, not the browser File menu!) to save your notebook so far.  \n",
        "\n"
      ]
    },
    {
      "cell_type": "markdown",
      "metadata": {
        "id": "Sm1g1ql9-xLl"
      },
      "source": [
        "The standard notebook file format is `.ipynb` which stands for \"iPython Notebook\", since Jupyter used to be called iPython.  If you go to \"File...Save a copy in Drive\", then the `ipynb` file will be saved on your Google Drive space.  You can also *download* the `ipynb` file onto your computer.\n",
        "\n",
        "Also, under the File menu, you'll see \"Revision History\" -- you can see all the previous versions you've saved, and highlight differences.  This can be really helpful, especially as you start collaborating on bigger projects!\n",
        "\n"
      ]
    },
    {
      "cell_type": "markdown",
      "metadata": {
        "id": "yv96Uc6E-xLl"
      },
      "source": [
        "Now you know more than enough to begin the Python programming notebooks.  **Happy programming**!\n",
        "\n",
        "**Exercise 4:**  Save this notebook into your repository on GitHub.  Submit the link to your repository on Canvas."
      ]
    },
    {
      "cell_type": "markdown",
      "metadata": {
        "id": "E75L9KHPo86N"
      },
      "source": [
        "# Using Anaconda -- if you need offline access\n",
        "\n",
        "If you have a reliable computer, but you do not have reliable internet access, then you might wish to use a Python installation on your own computer instead of Google Colab.  \n",
        "\n",
        "Go to [Anaconda's home page](https://www.anaconda.com/) to install the individual edition of Anaconda on your computer.  This will include Python, a Jupyter notebook server, etc., with everything you'll need.  To start Python up, run the Anaconda navigator, and launch a Jupyter notebook.  This will open a tab in your web browser.  You can download the notebook from https://github.com/MartyWeissman/PythonForMathematics.  In fact, Github makes it a bit hard to download individual files, but click on the file you want (the ipynb file).  Then click \"raw\", and you'll see a big page with lots of code.  Save this on your computer with an ipynb extension (not .txt) and you've got it.  \n",
        "\n",
        "You can open and edit Python notebooks from this tab.  And you can upload your `ipynb` files directly from your computer to your GitHub repository when you're ready to share and submit files.  Let us know if you need help with this process!  "
      ]
    },
    {
      "cell_type": "code",
      "metadata": {
        "id": "p3X2J_Fsn2DR"
      },
      "source": [],
      "execution_count": null,
      "outputs": []
    }
  ]
}